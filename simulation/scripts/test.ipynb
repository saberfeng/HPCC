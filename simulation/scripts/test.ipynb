{
 "cells": [
  {
   "cell_type": "code",
   "execution_count": 9,
   "metadata": {},
   "outputs": [
    {
     "name": "stdout",
     "output_type": "stream",
     "text": [
      "[0. 0. 0. 0.]\n",
      "[2 4 2 4]\n",
      "[[2 4 4 4]\n",
      " [4 4 4 2]]\n"
     ]
    }
   ],
   "source": [
    "import numpy as np\n",
    "\n",
    "# Define the arrays\n",
    "rho = np.array([2, 2, 2, 2])\n",
    "pow = np.array([1, 2, 1, 2])\n",
    "pow2 = np.array([[1,2,2,2,],[2,2,2,1]])\n",
    "\n",
    "# Create an output array of zeros\n",
    "result = np.zeros_like(rho, dtype=float)\n",
    "print(result)\n",
    "print(rho**pow)\n",
    "print(rho**pow2)"
   ]
  },
  {
   "cell_type": "code",
   "execution_count": 7,
   "metadata": {},
   "outputs": [
    {
     "name": "stdout",
     "output_type": "stream",
     "text": [
      "Result: [2. 4. 2. 4.]\n"
     ]
    }
   ],
   "source": [
    "# Calculate the power sums grouped by unique power values and add to the original\n",
    "for p in np.unique(pow):\n",
    "    indices = np.where(pow == p)  # Find indices where power values match\n",
    "    result[indices] += rho[indices]**p  # Add the powers of rho to the result at these indices\n",
    "\n",
    "# Output the result\n",
    "print(\"Result:\", result) "
   ]
  },
  {
   "cell_type": "code",
   "execution_count": 24,
   "metadata": {},
   "outputs": [
    {
     "name": "stdout",
     "output_type": "stream",
     "text": [
      "[[0 0 0 0]\n",
      " [1 1 1 1]\n",
      " [0 0 2 2]\n",
      " [0 0 0 3]]\n",
      "[ 3  7 15 31]\n"
     ]
    }
   ],
   "source": [
    "import numpy as np\n",
    "\n",
    "# Input vector\n",
    "V = np.array([1, 1, 2, 3])\n",
    "\n",
    "# input:   [1, 1, 2, 3] \n",
    "# output: [[0, 0, 0, 0],\n",
    "#          [1, 1, 1, 1], \n",
    "#          [0, 0, 2, 2], \n",
    "#          [0, 0, 0, 3]]\n",
    "def column_range_expansion(v:np.array):\n",
    "    # Determine the number of rows: maximum number in V\n",
    "    num_rows = np.max(v)\n",
    "    M = np.zeros((num_rows+1, len(v)), dtype=int)\n",
    "    for idx, num in enumerate(v):\n",
    "        M[:num+1, idx] = np.arange(0, num + 1)\n",
    "    return M\n",
    "\n",
    "# input: arr: [2, 2, 2, 2]\n",
    "#        power: [1, 2, 3, 4]\n",
    "# output: [ 2  6 14 30] = \n",
    "#         [2^0+2^1, 2^0+2^1+2^2, \n",
    "#           2^0+2^1+2^2+2^3, 2^0+2^1+2^2+2^3+2^4]\n",
    "def sum_powers(arr:np.array, power:np.array):\n",
    "    power_expansion = column_range_expansion(power)\n",
    "    raw_sum = np.sum(arr**power_expansion, axis=0)\n",
    "    rows_num = power_expansion.shape[0]\n",
    "    paddings = rows_num - power - 1 # the number of padding zeros\n",
    "    return raw_sum - paddings \n",
    "\n",
    "print(column_range_expansion(V))\n",
    "# print(column_range_expansion(np.array([2,3,4,5])))\n",
    "rho = np.array([2,2,2,2])\n",
    "pow = np.array([1,2,3,4])\n",
    "print(sum_powers(rho, pow))"
   ]
  },
  {
   "cell_type": "code",
   "execution_count": null,
   "metadata": {},
   "outputs": [],
   "source": []
  }
 ],
 "metadata": {
  "kernelspec": {
   "display_name": "Python 3",
   "language": "python",
   "name": "python3"
  },
  "language_info": {
   "codemirror_mode": {
    "name": "ipython",
    "version": 3
   },
   "file_extension": ".py",
   "mimetype": "text/x-python",
   "name": "python",
   "nbconvert_exporter": "python",
   "pygments_lexer": "ipython3",
   "version": "3.12.3"
  }
 },
 "nbformat": 4,
 "nbformat_minor": 2
}
