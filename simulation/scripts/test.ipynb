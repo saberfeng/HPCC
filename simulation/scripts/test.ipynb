{
 "cells": [
  {
   "cell_type": "code",
   "execution_count": 9,
   "metadata": {},
   "outputs": [
    {
     "name": "stdout",
     "output_type": "stream",
     "text": [
      "[0. 0. 0. 0.]\n",
      "[2 4 2 4]\n",
      "[[2 4 4 4]\n",
      " [4 4 4 2]]\n"
     ]
    }
   ],
   "source": [
    "import numpy as np\n",
    "\n",
    "# Define the arrays\n",
    "rho = np.array([2, 2, 2, 2])\n",
    "pow = np.array([1, 2, 1, 2])\n",
    "pow2 = np.array([[1,2,2,2,],[2,2,2,1]])\n",
    "\n",
    "# Create an output array of zeros\n",
    "result = np.zeros_like(rho, dtype=float)\n",
    "print(result)\n",
    "print(rho**pow)\n",
    "print(rho**pow2)"
   ]
  },
  {
   "cell_type": "code",
   "execution_count": 7,
   "metadata": {},
   "outputs": [
    {
     "name": "stdout",
     "output_type": "stream",
     "text": [
      "Result: [2. 4. 2. 4.]\n"
     ]
    }
   ],
   "source": [
    "# Calculate the power sums grouped by unique power values and add to the original\n",
    "for p in np.unique(pow):\n",
    "    indices = np.where(pow == p)  # Find indices where power values match\n",
    "    result[indices] += rho[indices]**p  # Add the powers of rho to the result at these indices\n",
    "\n",
    "# Output the result\n",
    "print(\"Result:\", result) "
   ]
  },
  {
   "cell_type": "code",
   "execution_count": 24,
   "metadata": {},
   "outputs": [
    {
     "name": "stdout",
     "output_type": "stream",
     "text": [
      "[[0 0 0 0]\n",
      " [1 1 1 1]\n",
      " [0 0 2 2]\n",
      " [0 0 0 3]]\n",
      "[ 3  7 15 31]\n"
     ]
    }
   ],
   "source": [
    "import numpy as np\n",
    "\n",
    "# Input vector\n",
    "V = np.array([1, 1, 2, 3])\n",
    "\n",
    "# input:   [1, 1, 2, 3] \n",
    "# output: [[0, 0, 0, 0],\n",
    "#          [1, 1, 1, 1], \n",
    "#          [0, 0, 2, 2], \n",
    "#          [0, 0, 0, 3]]\n",
    "def column_range_expansion(v:np.array):\n",
    "    # Determine the number of rows: maximum number in V\n",
    "    num_rows = np.max(v)\n",
    "    M = np.zeros((num_rows+1, len(v)), dtype=int)\n",
    "    for idx, num in enumerate(v):\n",
    "        M[:num+1, idx] = np.arange(0, num + 1)\n",
    "    return M\n",
    "\n",
    "# input: arr: [2, 2, 2, 2]\n",
    "#        power: [1, 2, 3, 4]\n",
    "# output: [ 2  6 14 30] = \n",
    "#         [2^0+2^1, 2^0+2^1+2^2, \n",
    "#           2^0+2^1+2^2+2^3, 2^0+2^1+2^2+2^3+2^4]\n",
    "def sum_powers(arr:np.array, power:np.array):\n",
    "    power_expansion = column_range_expansion(power)\n",
    "    raw_sum = np.sum(arr**power_expansion, axis=0)\n",
    "    rows_num = power_expansion.shape[0]\n",
    "    paddings = rows_num - power - 1 # the number of padding zeros\n",
    "    return raw_sum - paddings \n",
    "\n",
    "print(column_range_expansion(V))\n",
    "# print(column_range_expansion(np.array([2,3,4,5])))\n",
    "rho = np.array([2,2,2,2])\n",
    "pow = np.array([1,2,3,4])\n",
    "print(sum_powers(rho, pow))"
   ]
  },
  {
   "cell_type": "code",
   "execution_count": 45,
   "metadata": {},
   "outputs": [
    {
     "name": "stdout",
     "output_type": "stream",
     "text": [
      "lambda 2n1f: [5.95744681 4.78723404]\n",
      "rho 2n1f: [0.9929078  0.68389058]\n",
      "p_n1_0customer: [0.0070922  0.31610942]\n",
      "p_n1_1customer: [0.0070419  0.21618426]\n",
      "p_n1_2customer: [0.00699196 0.14784638]\n",
      "prob up to n: [0.02112605 0.68014005]\n"
     ]
    }
   ],
   "source": [
    "save_folder = 'test_2node'\n",
    "R_2n1f = np.array([\n",
    "    [0, 0.3],\n",
    "    [0.2, 0],])\n",
    "Gamma_2n1f = np.array([5, 3])\n",
    "Mu_2n1f = [6,7]\n",
    "flownum_2n1f= 1\n",
    "qsz_2n1f = 3\n",
    "np.savetxt('test_2node/R_2n1f.txt', R_2n1f, fmt='%1.9e')\n",
    "np.savetxt('test_2node/Gamma_2n1f.txt', Gamma_2n1f, fmt='%1.9e')\n",
    "np.savetxt('test_2node/Mu_2n1f.txt', Mu_2n1f, fmt='%1.9e')\n",
    "\n",
    "Lambda_2n1f = np.dot(Gamma_2n1f, np.linalg.inv(np.eye(R_2n1f.shape[0]) - R_2n1f))\n",
    "print(\"lambda 2n1f:\", Lambda_2n1f)\n",
    "rho = Lambda_2n1f / Mu_2n1f\n",
    "print(\"rho 2n1f:\", rho)\n",
    "p_n1_0customer = (1-rho)\n",
    "p_n1_1customer = (1-rho) * rho\n",
    "p_n1_2customer = (1-rho) * rho**2\n",
    "print('p_n1_0customer:', p_n1_0customer)\n",
    "print('p_n1_1customer:', p_n1_1customer)\n",
    "print('p_n1_2customer:', p_n1_2customer)\n",
    "\n",
    "# prob of up to n customers\n",
    "n = 2 \n",
    "prob_2n1f = np.zeros(R_2n1f.shape[0])\n",
    "for i in range(n+1):\n",
    "    prob_2n1f += (1-rho) * rho**i\n",
    "print(\"prob up to n:\", prob_2n1f)"
   ]
  },
  {
   "cell_type": "code",
   "execution_count": 46,
   "metadata": {},
   "outputs": [
    {
     "name": "stdout",
     "output_type": "stream",
     "text": [
      "lambda_2n2f: [5.6 4.5]\n",
      "rho 2n2f: [0.93333333 0.64285714]\n"
     ]
    }
   ],
   "source": [
    "R_2n2f = np.array([\n",
    "    [0, 0.3],\n",
    "    [0, 0],\n",
    "    [0, 0],\n",
    "    [0.2, 0]])\n",
    "np.savetxt(f'{save_folder}/R_2n2f.txt', R_2n2f, fmt='%1.9e')\n",
    "Gamma_2n2f = np.array([\n",
    "    [5, 0],\n",
    "    [0, 3],\n",
    "])\n",
    "np.savetxt(f'{save_folder}/Gamma_2n2f.txt', Gamma_2n2f, fmt='%1.9e')\n",
    "Mu_2n2f = [6,7]\n",
    "flownum_2n2f= 1\n",
    "qsz_2n2f = 3\n",
    "np.savetxt(f'{save_folder}/Mu_2n2f.txt', Mu_2n2f, fmt='%1.9e')\n",
    "qsz_vec_2n2f = np.array([3, 3])\n",
    "np.savetxt(f'{save_folder}/qsz_2n2f.txt', qsz_vec_2n2f, fmt='%1.9e')\n",
    "\n",
    "node_num = R_2n2f.shape[1]\n",
    "R_2n2f_flow1 = R_2n2f[0:2, :]\n",
    "R_2n2f_flow2 = R_2n2f[2:4, :]\n",
    "Lambda_2n2f_flow1 = np.dot(Gamma_2n2f[0], \n",
    "                           np.linalg.inv(np.eye(node_num) - R_2n2f_flow1))\n",
    "Lambda_2n2f_flow2 = np.dot(Gamma_2n2f[1],\n",
    "                            np.linalg.inv(np.eye(node_num) - R_2n2f_flow2))\n",
    "Lambda_2n2f = Lambda_2n2f_flow1 + Lambda_2n2f_flow2\n",
    "print(\"lambda_2n2f:\", Lambda_2n2f)\n",
    "\n",
    "rho = Lambda_2n2f / Mu_2n2f\n",
    "print(\"rho 2n2f:\", rho)"
   ]
  },
  {
   "cell_type": "code",
   "execution_count": 40,
   "metadata": {},
   "outputs": [
    {
     "name": "stdout",
     "output_type": "stream",
     "text": [
      "[2 4]\n",
      "6\n",
      "1\n"
     ]
    }
   ],
   "source": [
    "test_arr1 = np.array([1,2])\n",
    "test_arr2 = np.array([2,2])\n",
    "print(test_arr1 * test_arr2)\n",
    "print(np.dot(test_arr1, test_arr2))\n",
    "test_arr3 = np.loadtxt('test_1node/Mu_1n1f.txt', dtype=float)\n",
    "print(len(test_arr3.shape))"
   ]
  },
  {
   "cell_type": "code",
   "execution_count": 5,
   "metadata": {},
   "outputs": [
    {
     "name": "stdout",
     "output_type": "stream",
     "text": [
      "[0.66666667 0.66666667]\n"
     ]
    },
    {
     "data": {
      "text/plain": [
       "1.3333333333333333"
      ]
     },
     "execution_count": 5,
     "metadata": {},
     "output_type": "execute_result"
    }
   ],
   "source": [
    "import numpy as np\n",
    "\n",
    "a = np.array([1,1])\n",
    "b = np.array([2,2])\n",
    "k = np.array([2,2])\n",
    "\n",
    "res = k * np.sqrt((b-a)**2 / (a+b)**2)\n",
    "print(res)\n",
    "res.sum()"
   ]
  },
  {
   "cell_type": "code",
   "execution_count": 9,
   "metadata": {},
   "outputs": [
    {
     "name": "stdout",
     "output_type": "stream",
     "text": [
      "[[ 1.  0. -1. -0.]\n",
      " [ 0.  1. -0. -1.]]\n",
      "[[1. 0. 0. 0.]\n",
      " [0. 1. 0. 0.]]\n"
     ]
    },
    {
     "data": {
      "text/plain": [
       "[1, 1]"
      ]
     },
     "execution_count": 9,
     "metadata": {},
     "output_type": "execute_result"
    }
   ],
   "source": [
    "N = 2\n",
    "con_A = np.concatenate((np.eye(N), -np.eye(N)), axis=1)\n",
    "print(con_A)\n",
    "\n",
    "\n",
    "con_a1_gt_smallest_a_mat = np.concatenate((np.eye(N), np.zeros((N, N))), axis=1)\n",
    "print(con_a1_gt_smallest_a_mat)"
   ]
  },
  {
   "cell_type": "code",
   "execution_count": 4,
   "metadata": {},
   "outputs": [
    {
     "data": {
      "image/png": "[encoded data removed]",
      "text/plain": [
       "<Figure size 640x480 with 1 Axes>"
      ]
     },
     "metadata": {},
     "output_type": "display_data"
    }
   ],
   "source": [
    "import random \n",
    "import matplotlib.pyplot as plt\n",
    "\n",
    "def hybrid_verification():\n",
    "    slots_num = 1000\n",
    "    sample_times = 50000\n",
    "    sample_results = []\n",
    "    for i in range(sample_times):\n",
    "        sample_results.append(random.randint(0, slots_num-1))\n",
    "    # plot the histogram\n",
    "    plt.hist(sample_results, bins=slots_num)\n",
    "    plt.show()\n",
    "\n",
    "\n",
    "\n",
    "    \n",
    "hybrid_verification()"
   ]
  },
  {
   "cell_type": "code",
   "execution_count": 1,
   "metadata": {},
   "outputs": [
    {
     "name": "stdout",
     "output_type": "stream",
     "text": [
      "Base::small_task\n",
      "Base::small_task\n"
     ]
    }
   ],
   "source": [
    "# method override test\n",
    "class Base:\n",
    "    def large_task(self):\n",
    "        self.small_task()\n",
    "    def small_task(self):\n",
    "        print(\"Base::small_task\")\n",
    "\n",
    "class Derived(Base):\n",
    "    def small_task(self):\n",
    "        print(\"Derived::small_task\")\n",
    "\n",
    "base = Base()\n",
    "base.large_task()\n",
    "\n",
    "derived = Base()\n",
    "derived.large_task()"
   ]
  },
  {
   "cell_type": "code",
   "execution_count": null,
   "metadata": {},
   "outputs": [],
   "source": [
    "# test return type of operator=\n"
   ]
  },
  {
   "cell_type": "code",
   "execution_count": 3,
   "metadata": {},
   "outputs": [
    {
     "name": "stdout",
     "output_type": "stream",
     "text": [
      "The name of continent is :  America\n",
      "The name of continent is :  Europe\n",
      "The name of continent is :  Africa\n",
      "finished\n"
     ]
    }
   ],
   "source": [
    "# test multi process\n",
    "from multiprocessing import Process, Pool\n",
    "from time import sleep\n",
    "\n",
    "def print_func(continent='Asia'):\n",
    "    sleep(3)    \n",
    "    print('The name of continent is : ', continent)\n",
    "\n",
    "def test_simple_process():\n",
    "    names = ['America', 'Europe', 'Africa']\n",
    "    procs = []\n",
    "    # instantiating process with arguments\n",
    "    for name in names:\n",
    "        # print(name)\n",
    "        proc = Process(target=print_func, args=(name,))\n",
    "        procs.append(proc)\n",
    "        proc.start()\n",
    "    print(\"hello\")\n",
    "    # complete the processes\n",
    "    for proc in procs:\n",
    "        proc.join()\n",
    "\n",
    "def test_pool_map():\n",
    "    names = ['America', 'Europe', 'Africa']\n",
    "    with Pool(processes=3) as pool:\n",
    "        pool.map(print_func, names)\n",
    "    print('finished')\n",
    "\n",
    "def test_pool_apply():\n",
    "    names = ['America', 'Europe', 'Africa']\n",
    "    with Pool(processes=3) as pool:\n",
    "        [pool.apply(print_func, args=(name,)) for name in names]\n",
    "    print('finished')\n",
    "\n",
    "if __name__ == \"__main__\":  # confirms that the code is under main function\n",
    "    # test_simple_process()\n",
    "    # test_pool_map()\n",
    "    test_pool_apply()\n",
    "\n"
   ]
  },
  {
   "cell_type": "code",
   "execution_count": 13,
   "metadata": {},
   "outputs": [
    {
     "name": "stdout",
     "output_type": "stream",
     "text": [
      "      src_ip    dst_ip  sport  dport  m_size(bytes)  start(ns)  \\\n",
      "0   0b001a01  0b003c01  10000    100      442622950    1000000   \n",
      "1   0b000901  0b003c01  10000    100      442622950    1000000   \n",
      "2   0b003501  0b003c01  10000    100      442622950    5000000   \n",
      "3   0b001601  0b003c01  10000    100      442622950   18000000   \n",
      "4   0b002301  0b003c01  10000    100      442622950   17000000   \n",
      "..       ...       ...    ...    ...            ...        ...   \n",
      "58  0b003601  0b003c01  10000    100      442622950  164000000   \n",
      "59  0b001c01  0b003c01  10000    100      442622950  161000000   \n",
      "60  0b000f01  0b003c01  10000    100      442622950  149000000   \n",
      "61  0b000c01  0b003c01  10000    100      442622950  154000000   \n",
      "62  0b002c01  0b003c01  10000    100      442622950  166000000   \n",
      "\n",
      "    complete_fct(ns)  standalone_fct(ns)     end(ns)  job_id  \n",
      "0         1880479023            37117708  1881479023    11.0  \n",
      "1         1891040437            37117708  1892040437     1.0  \n",
      "2         1932820816            37113668  1937820816    11.0  \n",
      "3         2100745384            37117708  2118745384     5.0  \n",
      "4         2105496648            37117708  2122496648    13.0  \n",
      "..               ...                 ...         ...     ...  \n",
      "58        2152152654            37113668  2316152654     2.0  \n",
      "59        2155303953            37117708  2316303953    16.0  \n",
      "60        2168323193            37117708  2317323193     2.0  \n",
      "61        2163490378            37117708  2317490378     0.0  \n",
      "62        2152998212            37117708  2318998212     2.0  \n",
      "\n",
      "[63 rows x 10 columns]\n",
      "job_id\n",
      "0.0     4\n",
      "1.0     4\n",
      "2.0     4\n",
      "3.0     3\n",
      "4.0     3\n",
      "5.0     3\n",
      "6.0     3\n",
      "7.0     3\n",
      "8.0     3\n",
      "9.0     3\n",
      "10.0    3\n",
      "11.0    3\n",
      "12.0    3\n",
      "13.0    3\n",
      "14.0    3\n",
      "15.0    3\n",
      "16.0    3\n",
      "17.0    3\n",
      "18.0    3\n",
      "19.0    3\n",
      "dtype: int64\n"
     ]
    }
   ],
   "source": [
    "import pandas as pd\n",
    "import random\n",
    "\n",
    "def parse_fct_multi_job(self, num_job:int):\n",
    "    path = 'simulation/mix/rand_offset/fct_fat_llmTest_dcqcn_1.csv'\n",
    "    fct_df = pd.read_csv(path)\n",
    "    row_num = fct_df.shape[0]\n",
    "    shuffled_row_num_li = list(range(row_num))\n",
    "    random.shuffle(shuffled_row_num_li)\n",
    "    num_flow_per_job = row_num // num_job\n",
    "    job_id_colname = 'job_id'\n",
    "\n",
    "    job_id_to_flow_ids = {}\n",
    "    for job_id in range(num_job):\n",
    "        job_id_to_flow_ids[job_id] = []\n",
    "        for j in range(num_flow_per_job):\n",
    "            shuffled_row_id = shuffled_row_num_li.pop()\n",
    "            job_id_to_flow_ids[job_id].append(shuffled_row_id)\n",
    "    for i in range(len(shuffled_row_num_li)):\n",
    "        job_id_to_flow_ids[i].append(shuffled_row_num_li[i])\n",
    "\n",
    "    # assign job id to each flow\n",
    "    for job_id, flow_ids in job_id_to_flow_ids.items():\n",
    "        fct_df.loc[flow_ids, job_id_colname] = job_id\n",
    "    print(fct_df)\n",
    "\n",
    "    # count rows by job id\n",
    "    # job_id_to_row_num = fct_df.groupby(job_id_colname).size()\n",
    "    # print(job_id_to_row_num)\n",
    "\n",
    "    start_colname = \"start(ns)\" \n",
    "    complete_fct_colname = \"complete_fct(ns)\"\n",
    "    end_colname = \"end(ns)\"\n",
    "\n",
    "    groupped_df = fct_df.groupby('job_id')\n",
    "    result = {\n",
    "        'maxFctNs': groupped_df[complete_fct_colname].max(),\n",
    "        'avgFctNs': groupped_df[complete_fct_colname].mean(),\n",
    "        'makespanNs': groupped_df[end_colname].max() - groupped_df[start_colname].min(),\n",
    "    }\n",
    "    return result\n",
    "\n",
    "\n",
    "parse_fct_multi_job(None, 20)"
   ]
  }
 ],
 "metadata": {
  "kernelspec": {
   "display_name": "Python 3",
   "language": "python",
   "name": "python3"
  },
  "language_info": {
   "codemirror_mode": {
    "name": "ipython",
    "version": 3
   },
   "file_extension": ".py",
   "mimetype": "text/x-python",
   "name": "python",
   "nbconvert_exporter": "python",
   "pygments_lexer": "ipython3",
   "version": "3.8.6"
  }
 },
 "nbformat": 4,
 "nbformat_minor": 2
}
