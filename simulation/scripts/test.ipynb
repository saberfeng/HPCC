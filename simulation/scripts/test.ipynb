{
 "cells": [
  {
   "cell_type": "code",
   "execution_count": 9,
   "metadata": {},
   "outputs": [
    {
     "name": "stdout",
     "output_type": "stream",
     "text": [
      "[0. 0. 0. 0.]\n",
      "[2 4 2 4]\n",
      "[[2 4 4 4]\n",
      " [4 4 4 2]]\n"
     ]
    }
   ],
   "source": [
    "import numpy as np\n",
    "\n",
    "# Define the arrays\n",
    "rho = np.array([2, 2, 2, 2])\n",
    "pow = np.array([1, 2, 1, 2])\n",
    "pow2 = np.array([[1,2,2,2,],[2,2,2,1]])\n",
    "\n",
    "# Create an output array of zeros\n",
    "result = np.zeros_like(rho, dtype=float)\n",
    "print(result)\n",
    "print(rho**pow)\n",
    "print(rho**pow2)"
   ]
  },
  {
   "cell_type": "code",
   "execution_count": 7,
   "metadata": {},
   "outputs": [
    {
     "name": "stdout",
     "output_type": "stream",
     "text": [
      "Result: [2. 4. 2. 4.]\n"
     ]
    }
   ],
   "source": [
    "# Calculate the power sums grouped by unique power values and add to the original\n",
    "for p in np.unique(pow):\n",
    "    indices = np.where(pow == p)  # Find indices where power values match\n",
    "    result[indices] += rho[indices]**p  # Add the powers of rho to the result at these indices\n",
    "\n",
    "# Output the result\n",
    "print(\"Result:\", result) "
   ]
  },
  {
   "cell_type": "code",
   "execution_count": 24,
   "metadata": {},
   "outputs": [
    {
     "name": "stdout",
     "output_type": "stream",
     "text": [
      "[[0 0 0 0]\n",
      " [1 1 1 1]\n",
      " [0 0 2 2]\n",
      " [0 0 0 3]]\n",
      "[ 3  7 15 31]\n"
     ]
    }
   ],
   "source": [
    "import numpy as np\n",
    "\n",
    "# Input vector\n",
    "V = np.array([1, 1, 2, 3])\n",
    "\n",
    "# input:   [1, 1, 2, 3] \n",
    "# output: [[0, 0, 0, 0],\n",
    "#          [1, 1, 1, 1], \n",
    "#          [0, 0, 2, 2], \n",
    "#          [0, 0, 0, 3]]\n",
    "def column_range_expansion(v:np.array):\n",
    "    # Determine the number of rows: maximum number in V\n",
    "    num_rows = np.max(v)\n",
    "    M = np.zeros((num_rows+1, len(v)), dtype=int)\n",
    "    for idx, num in enumerate(v):\n",
    "        M[:num+1, idx] = np.arange(0, num + 1)\n",
    "    return M\n",
    "\n",
    "# input: arr: [2, 2, 2, 2]\n",
    "#        power: [1, 2, 3, 4]\n",
    "# output: [ 2  6 14 30] = \n",
    "#         [2^0+2^1, 2^0+2^1+2^2, \n",
    "#           2^0+2^1+2^2+2^3, 2^0+2^1+2^2+2^3+2^4]\n",
    "def sum_powers(arr:np.array, power:np.array):\n",
    "    power_expansion = column_range_expansion(power)\n",
    "    raw_sum = np.sum(arr**power_expansion, axis=0)\n",
    "    rows_num = power_expansion.shape[0]\n",
    "    paddings = rows_num - power - 1 # the number of padding zeros\n",
    "    return raw_sum - paddings \n",
    "\n",
    "print(column_range_expansion(V))\n",
    "# print(column_range_expansion(np.array([2,3,4,5])))\n",
    "rho = np.array([2,2,2,2])\n",
    "pow = np.array([1,2,3,4])\n",
    "print(sum_powers(rho, pow))"
   ]
  },
  {
   "cell_type": "code",
   "execution_count": 45,
   "metadata": {},
   "outputs": [
    {
     "name": "stdout",
     "output_type": "stream",
     "text": [
      "lambda 2n1f: [5.95744681 4.78723404]\n",
      "rho 2n1f: [0.9929078  0.68389058]\n",
      "p_n1_0customer: [0.0070922  0.31610942]\n",
      "p_n1_1customer: [0.0070419  0.21618426]\n",
      "p_n1_2customer: [0.00699196 0.14784638]\n",
      "prob up to n: [0.02112605 0.68014005]\n"
     ]
    }
   ],
   "source": [
    "save_folder = 'test_2node'\n",
    "R_2n1f = np.array([\n",
    "    [0, 0.3],\n",
    "    [0.2, 0],])\n",
    "Gamma_2n1f = np.array([5, 3])\n",
    "Mu_2n1f = [6,7]\n",
    "flownum_2n1f= 1\n",
    "qsz_2n1f = 3\n",
    "np.savetxt('test_2node/R_2n1f.txt', R_2n1f, fmt='%1.9e')\n",
    "np.savetxt('test_2node/Gamma_2n1f.txt', Gamma_2n1f, fmt='%1.9e')\n",
    "np.savetxt('test_2node/Mu_2n1f.txt', Mu_2n1f, fmt='%1.9e')\n",
    "\n",
    "Lambda_2n1f = np.dot(Gamma_2n1f, np.linalg.inv(np.eye(R_2n1f.shape[0]) - R_2n1f))\n",
    "print(\"lambda 2n1f:\", Lambda_2n1f)\n",
    "rho = Lambda_2n1f / Mu_2n1f\n",
    "print(\"rho 2n1f:\", rho)\n",
    "p_n1_0customer = (1-rho)\n",
    "p_n1_1customer = (1-rho) * rho\n",
    "p_n1_2customer = (1-rho) * rho**2\n",
    "print('p_n1_0customer:', p_n1_0customer)\n",
    "print('p_n1_1customer:', p_n1_1customer)\n",
    "print('p_n1_2customer:', p_n1_2customer)\n",
    "\n",
    "# prob of up to n customers\n",
    "n = 2 \n",
    "prob_2n1f = np.zeros(R_2n1f.shape[0])\n",
    "for i in range(n+1):\n",
    "    prob_2n1f += (1-rho) * rho**i\n",
    "print(\"prob up to n:\", prob_2n1f)"
   ]
  },
  {
   "cell_type": "code",
   "execution_count": 46,
   "metadata": {},
   "outputs": [
    {
     "name": "stdout",
     "output_type": "stream",
     "text": [
      "lambda_2n2f: [5.6 4.5]\n",
      "rho 2n2f: [0.93333333 0.64285714]\n"
     ]
    }
   ],
   "source": [
    "R_2n2f = np.array([\n",
    "    [0, 0.3],\n",
    "    [0, 0],\n",
    "    [0, 0],\n",
    "    [0.2, 0]])\n",
    "np.savetxt(f'{save_folder}/R_2n2f.txt', R_2n2f, fmt='%1.9e')\n",
    "Gamma_2n2f = np.array([\n",
    "    [5, 0],\n",
    "    [0, 3],\n",
    "])\n",
    "np.savetxt(f'{save_folder}/Gamma_2n2f.txt', Gamma_2n2f, fmt='%1.9e')\n",
    "Mu_2n2f = [6,7]\n",
    "flownum_2n2f= 1\n",
    "qsz_2n2f = 3\n",
    "np.savetxt(f'{save_folder}/Mu_2n2f.txt', Mu_2n2f, fmt='%1.9e')\n",
    "qsz_vec_2n2f = np.array([3, 3])\n",
    "np.savetxt(f'{save_folder}/qsz_2n2f.txt', qsz_vec_2n2f, fmt='%1.9e')\n",
    "\n",
    "node_num = R_2n2f.shape[1]\n",
    "R_2n2f_flow1 = R_2n2f[0:2, :]\n",
    "R_2n2f_flow2 = R_2n2f[2:4, :]\n",
    "Lambda_2n2f_flow1 = np.dot(Gamma_2n2f[0], \n",
    "                           np.linalg.inv(np.eye(node_num) - R_2n2f_flow1))\n",
    "Lambda_2n2f_flow2 = np.dot(Gamma_2n2f[1],\n",
    "                            np.linalg.inv(np.eye(node_num) - R_2n2f_flow2))\n",
    "Lambda_2n2f = Lambda_2n2f_flow1 + Lambda_2n2f_flow2\n",
    "print(\"lambda_2n2f:\", Lambda_2n2f)\n",
    "\n",
    "rho = Lambda_2n2f / Mu_2n2f\n",
    "print(\"rho 2n2f:\", rho)"
   ]
  },
  {
   "cell_type": "code",
   "execution_count": 40,
   "metadata": {},
   "outputs": [
    {
     "name": "stdout",
     "output_type": "stream",
     "text": [
      "[2 4]\n",
      "6\n",
      "1\n"
     ]
    }
   ],
   "source": [
    "test_arr1 = np.array([1,2])\n",
    "test_arr2 = np.array([2,2])\n",
    "print(test_arr1 * test_arr2)\n",
    "print(np.dot(test_arr1, test_arr2))\n",
    "test_arr3 = np.loadtxt('test_1node/Mu_1n1f.txt', dtype=float)\n",
    "print(len(test_arr3.shape))"
   ]
  },
  {
   "cell_type": "code",
   "execution_count": 5,
   "metadata": {},
   "outputs": [
    {
     "name": "stdout",
     "output_type": "stream",
     "text": [
      "[0.66666667 0.66666667]\n"
     ]
    },
    {
     "data": {
      "text/plain": [
       "1.3333333333333333"
      ]
     },
     "execution_count": 5,
     "metadata": {},
     "output_type": "execute_result"
    }
   ],
   "source": [
    "import numpy as np\n",
    "\n",
    "a = np.array([1,1])\n",
    "b = np.array([2,2])\n",
    "k = np.array([2,2])\n",
    "\n",
    "res = k * np.sqrt((b-a)**2 / (a+b)**2)\n",
    "print(res)\n",
    "res.sum()"
   ]
  },
  {
   "cell_type": "code",
   "execution_count": 9,
   "metadata": {},
   "outputs": [
    {
     "name": "stdout",
     "output_type": "stream",
     "text": [
      "[[ 1.  0. -1. -0.]\n",
      " [ 0.  1. -0. -1.]]\n",
      "[[1. 0. 0. 0.]\n",
      " [0. 1. 0. 0.]]\n"
     ]
    },
    {
     "data": {
      "text/plain": [
       "[1, 1]"
      ]
     },
     "execution_count": 9,
     "metadata": {},
     "output_type": "execute_result"
    }
   ],
   "source": [
    "N = 2\n",
    "con_A = np.concatenate((np.eye(N), -np.eye(N)), axis=1)\n",
    "print(con_A)\n",
    "\n",
    "\n",
    "con_a1_gt_smallest_a_mat = np.concatenate((np.eye(N), np.zeros((N, N))), axis=1)\n",
    "print(con_a1_gt_smallest_a_mat)"
   ]
  }
 ],
 "metadata": {
  "kernelspec": {
   "display_name": "Python 3",
   "language": "python",
   "name": "python3"
  },
  "language_info": {
   "codemirror_mode": {
    "name": "ipython",
    "version": 3
   },
   "file_extension": ".py",
   "mimetype": "text/x-python",
   "name": "python",
   "nbconvert_exporter": "python",
   "pygments_lexer": "ipython3",
   "version": "3.8.6"
  }
 },
 "nbformat": 4,
 "nbformat_minor": 2
}
